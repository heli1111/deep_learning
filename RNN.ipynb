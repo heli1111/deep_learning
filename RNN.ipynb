{
  "nbformat": 4,
  "nbformat_minor": 0,
  "metadata": {
    "colab": {
      "name": "RNN.ipynb",
      "provenance": [],
      "mount_file_id": "1M6zPW0EBtwQEbo5txFuswBMW3bMwJAIz",
      "authorship_tag": "ABX9TyOsoZetHGqC2pa0XceoSGrg",
      "include_colab_link": true
    },
    "kernelspec": {
      "name": "python3",
      "display_name": "Python 3"
    },
    "language_info": {
      "name": "python"
    }
  },
  "cells": [
    {
      "cell_type": "markdown",
      "metadata": {
        "id": "view-in-github",
        "colab_type": "text"
      },
      "source": [
        "<a href=\"https://colab.research.google.com/github/hepuliu/deep_learning/blob/main/RNN.ipynb\" target=\"_parent\"><img src=\"https://colab.research.google.com/assets/colab-badge.svg\" alt=\"Open In Colab\"/></a>"
      ]
    },
    {
      "cell_type": "markdown",
      "source": [
        "# RNN for Stock Prediction"
      ],
      "metadata": {
        "id": "EYf-EbAxcmib"
      }
    },
    {
      "cell_type": "markdown",
      "source": [
        "# Data Processing"
      ],
      "metadata": {
        "id": "U_loWUf5cwVh"
      }
    },
    {
      "cell_type": "code",
      "source": [
        "# importing libraries\n",
        "import numpy as np\n",
        "import matplotlib.pyplot as plt\n",
        "import pandas as pd"
      ],
      "metadata": {
        "id": "shrK378Z0ZHv"
      },
      "execution_count": 13,
      "outputs": []
    },
    {
      "cell_type": "code",
      "source": [
        "# import training set\n",
        "from google.colab import drive\n",
        "drive.mount\n",
        "dataset_train = pd.read_csv('/content/drive/MyDrive/Colab Notebooks/datasets/Course_DL/Google_Stock_Price_Train.csv')\n",
        "training_set = dataset_train.iloc[:, 1:2].values"
      ],
      "metadata": {
        "id": "Ofwy1gjjiwjm"
      },
      "execution_count": 14,
      "outputs": []
    },
    {
      "cell_type": "code",
      "source": [
        "# feature scaling - normalization between 0 to 1\n",
        "from sklearn.preprocessing import MinMaxScaler\n",
        "sc = MinMaxScaler(feature_range=(0,1))\n",
        "training_set_scaled = sc.fit_transform(training_set)"
      ],
      "metadata": {
        "id": "swBpGwiyj_XW"
      },
      "execution_count": 15,
      "outputs": []
    },
    {
      "cell_type": "code",
      "source": [
        "# create a data structure with 60 past timesteps and 1 output\n",
        "x_train = []\n",
        "y_train = []\n",
        "for i in range(60, 1258):\n",
        "  x_train.append(training_set_scaled[i-60:i, 0])\n",
        "  y_train.append(training_set_scaled[i,0])\n",
        "x_train, y_train = np.array(x_train), np.array(y_train)"
      ],
      "metadata": {
        "id": "f-bA7cIxlULN"
      },
      "execution_count": 16,
      "outputs": []
    },
    {
      "cell_type": "code",
      "source": [
        "# reshaping - adding indicator\n",
        "x_train = np.reshape(x_train, (x_train.shape[0], x_train.shape[1], 1))\n"
      ],
      "metadata": {
        "id": "gxb6KeX2u2-t"
      },
      "execution_count": 17,
      "outputs": []
    },
    {
      "cell_type": "markdown",
      "source": [
        "# Building the RNN"
      ],
      "metadata": {
        "id": "OxeMkKKxdZl1"
      }
    },
    {
      "cell_type": "code",
      "source": [
        "# importing keras libraries\n",
        "from keras.models import Sequential\n",
        "from keras.layers import Dense\n",
        "from keras.layers import LSTM\n",
        "from keras.layers import Dropout\n",
        "\n",
        "# initializing the RNN\n",
        "regressor = Sequential()\n",
        "\n",
        "# adding first LSTM layer and some dropout regularization\n",
        "regressor.add(LSTM(units = 50, return_sequences = True, input_shape = (x_train.shape[1], 1)))\n",
        "regressor.add(Dropout(0.2))\n",
        "\n",
        "# adding the second LSTM layer and some dropout regularization\n",
        "regressor.add(LSTM(units = 50, return_sequences = True))\n",
        "regressor.add(Dropout(0.2))\n",
        "\n",
        "# adding the third LSTM layer and some dropout regularization\n",
        "regressor.add(LSTM(units = 50, return_sequences = True))\n",
        "regressor.add(Dropout(0.2))\n",
        "\n",
        "# adding the fourth LSTM layer and some dropout regularization\n",
        "regressor.add(LSTM(units = 50))\n",
        "regressor.add(Dropout(0.2))\n",
        "\n",
        "# adding the output layer of the LSTM\n",
        "regressor.add(Dense(units = 1))\n",
        "\n",
        "# compiling the RNN\n",
        "regressor.compile(optimizer = 'adam', loss = 'mean_squared_error')\n",
        "\n",
        "# fitting the RNN to the training set\n",
        "regressor.fit(x_train, y_train, epochs = 100, batch_size = 32)\n",
        "\n"
      ],
      "metadata": {
        "colab": {
          "base_uri": "https://localhost:8080/"
        },
        "id": "8hG0QzZBVl01",
        "outputId": "a2c54e16-5a20-482a-f0e9-113b2e6cfc55"
      },
      "execution_count": 18,
      "outputs": [
        {
          "output_type": "stream",
          "name": "stdout",
          "text": [
            "Epoch 1/100\n",
            "38/38 [==============================] - 13s 127ms/step - loss: 0.0407\n",
            "Epoch 2/100\n",
            "38/38 [==============================] - 5s 125ms/step - loss: 0.0065\n",
            "Epoch 3/100\n",
            "38/38 [==============================] - 5s 130ms/step - loss: 0.0059\n",
            "Epoch 4/100\n",
            "38/38 [==============================] - 5s 131ms/step - loss: 0.0048\n",
            "Epoch 5/100\n",
            "38/38 [==============================] - 5s 130ms/step - loss: 0.0048\n",
            "Epoch 6/100\n",
            "38/38 [==============================] - 6s 154ms/step - loss: 0.0049\n",
            "Epoch 7/100\n",
            "38/38 [==============================] - 5s 133ms/step - loss: 0.0044\n",
            "Epoch 8/100\n",
            "38/38 [==============================] - 5s 127ms/step - loss: 0.0043\n",
            "Epoch 9/100\n",
            "38/38 [==============================] - 5s 126ms/step - loss: 0.0044\n",
            "Epoch 10/100\n",
            "38/38 [==============================] - 5s 125ms/step - loss: 0.0044\n",
            "Epoch 11/100\n",
            "38/38 [==============================] - 5s 125ms/step - loss: 0.0044\n",
            "Epoch 12/100\n",
            "38/38 [==============================] - 5s 121ms/step - loss: 0.0045\n",
            "Epoch 13/100\n",
            "38/38 [==============================] - 5s 121ms/step - loss: 0.0038\n",
            "Epoch 14/100\n",
            "38/38 [==============================] - 5s 121ms/step - loss: 0.0037\n",
            "Epoch 15/100\n",
            "38/38 [==============================] - 5s 121ms/step - loss: 0.0037\n",
            "Epoch 16/100\n",
            "38/38 [==============================] - 5s 125ms/step - loss: 0.0038\n",
            "Epoch 17/100\n",
            "38/38 [==============================] - 5s 125ms/step - loss: 0.0038\n",
            "Epoch 18/100\n",
            "38/38 [==============================] - 5s 131ms/step - loss: 0.0036\n",
            "Epoch 19/100\n",
            "38/38 [==============================] - 5s 124ms/step - loss: 0.0037\n",
            "Epoch 20/100\n",
            "38/38 [==============================] - 5s 121ms/step - loss: 0.0036\n",
            "Epoch 21/100\n",
            "38/38 [==============================] - 5s 121ms/step - loss: 0.0036\n",
            "Epoch 22/100\n",
            "38/38 [==============================] - 5s 122ms/step - loss: 0.0033\n",
            "Epoch 23/100\n",
            "38/38 [==============================] - 5s 121ms/step - loss: 0.0031\n",
            "Epoch 24/100\n",
            "38/38 [==============================] - 5s 122ms/step - loss: 0.0035\n",
            "Epoch 25/100\n",
            "38/38 [==============================] - 5s 120ms/step - loss: 0.0030\n",
            "Epoch 26/100\n",
            "38/38 [==============================] - 5s 122ms/step - loss: 0.0034\n",
            "Epoch 27/100\n",
            "38/38 [==============================] - 5s 120ms/step - loss: 0.0033\n",
            "Epoch 28/100\n",
            "38/38 [==============================] - 4s 117ms/step - loss: 0.0030\n",
            "Epoch 29/100\n",
            "38/38 [==============================] - 5s 120ms/step - loss: 0.0034\n",
            "Epoch 30/100\n",
            "38/38 [==============================] - 4s 116ms/step - loss: 0.0030\n",
            "Epoch 31/100\n",
            "38/38 [==============================] - 4s 117ms/step - loss: 0.0030\n",
            "Epoch 32/100\n",
            "38/38 [==============================] - 4s 117ms/step - loss: 0.0026\n",
            "Epoch 33/100\n",
            "38/38 [==============================] - 4s 118ms/step - loss: 0.0029\n",
            "Epoch 34/100\n",
            "38/38 [==============================] - 4s 115ms/step - loss: 0.0029\n",
            "Epoch 35/100\n",
            "38/38 [==============================] - 4s 118ms/step - loss: 0.0029\n",
            "Epoch 36/100\n",
            "38/38 [==============================] - 5s 121ms/step - loss: 0.0030\n",
            "Epoch 37/100\n",
            "38/38 [==============================] - 5s 121ms/step - loss: 0.0032\n",
            "Epoch 38/100\n",
            "38/38 [==============================] - 5s 122ms/step - loss: 0.0027\n",
            "Epoch 39/100\n",
            "38/38 [==============================] - 5s 121ms/step - loss: 0.0031\n",
            "Epoch 40/100\n",
            "38/38 [==============================] - 5s 120ms/step - loss: 0.0034\n",
            "Epoch 41/100\n",
            "38/38 [==============================] - 5s 119ms/step - loss: 0.0024\n",
            "Epoch 42/100\n",
            "38/38 [==============================] - 5s 119ms/step - loss: 0.0024\n",
            "Epoch 43/100\n",
            "38/38 [==============================] - 4s 118ms/step - loss: 0.0025\n",
            "Epoch 44/100\n",
            "38/38 [==============================] - 4s 117ms/step - loss: 0.0023\n",
            "Epoch 45/100\n",
            "38/38 [==============================] - 4s 115ms/step - loss: 0.0027\n",
            "Epoch 46/100\n",
            "38/38 [==============================] - 4s 117ms/step - loss: 0.0024\n",
            "Epoch 47/100\n",
            "38/38 [==============================] - 4s 117ms/step - loss: 0.0026\n",
            "Epoch 48/100\n",
            "38/38 [==============================] - 4s 112ms/step - loss: 0.0024\n",
            "Epoch 49/100\n",
            "38/38 [==============================] - 4s 113ms/step - loss: 0.0023\n",
            "Epoch 50/100\n",
            "38/38 [==============================] - 4s 116ms/step - loss: 0.0026\n",
            "Epoch 51/100\n",
            "38/38 [==============================] - 5s 119ms/step - loss: 0.0025\n",
            "Epoch 52/100\n",
            "38/38 [==============================] - 5s 119ms/step - loss: 0.0022\n",
            "Epoch 53/100\n",
            "38/38 [==============================] - 5s 120ms/step - loss: 0.0022\n",
            "Epoch 54/100\n",
            "38/38 [==============================] - 5s 122ms/step - loss: 0.0025\n",
            "Epoch 55/100\n",
            "38/38 [==============================] - 5s 123ms/step - loss: 0.0020\n",
            "Epoch 56/100\n",
            "38/38 [==============================] - 5s 124ms/step - loss: 0.0021\n",
            "Epoch 57/100\n",
            "38/38 [==============================] - 5s 119ms/step - loss: 0.0022\n",
            "Epoch 58/100\n",
            "38/38 [==============================] - 4s 116ms/step - loss: 0.0019\n",
            "Epoch 59/100\n",
            "38/38 [==============================] - 4s 115ms/step - loss: 0.0020\n",
            "Epoch 60/100\n",
            "38/38 [==============================] - 4s 114ms/step - loss: 0.0020\n",
            "Epoch 61/100\n",
            "38/38 [==============================] - 4s 115ms/step - loss: 0.0021\n",
            "Epoch 62/100\n",
            "38/38 [==============================] - 4s 113ms/step - loss: 0.0020\n",
            "Epoch 63/100\n",
            "38/38 [==============================] - 4s 113ms/step - loss: 0.0020\n",
            "Epoch 64/100\n",
            "38/38 [==============================] - 4s 114ms/step - loss: 0.0022\n",
            "Epoch 65/100\n",
            "38/38 [==============================] - 4s 116ms/step - loss: 0.0021\n",
            "Epoch 66/100\n",
            "38/38 [==============================] - 4s 118ms/step - loss: 0.0020\n",
            "Epoch 67/100\n",
            "38/38 [==============================] - 4s 117ms/step - loss: 0.0019\n",
            "Epoch 68/100\n",
            "38/38 [==============================] - 4s 118ms/step - loss: 0.0019\n",
            "Epoch 69/100\n",
            "38/38 [==============================] - 5s 119ms/step - loss: 0.0018\n",
            "Epoch 70/100\n",
            "38/38 [==============================] - 4s 117ms/step - loss: 0.0018\n",
            "Epoch 71/100\n",
            "38/38 [==============================] - 4s 118ms/step - loss: 0.0018\n",
            "Epoch 72/100\n",
            "38/38 [==============================] - 4s 114ms/step - loss: 0.0017\n",
            "Epoch 73/100\n",
            "38/38 [==============================] - 5s 132ms/step - loss: 0.0017\n",
            "Epoch 74/100\n",
            "38/38 [==============================] - 4s 114ms/step - loss: 0.0017\n",
            "Epoch 75/100\n",
            "38/38 [==============================] - 5s 118ms/step - loss: 0.0019\n",
            "Epoch 76/100\n",
            "38/38 [==============================] - 5s 120ms/step - loss: 0.0020\n",
            "Epoch 77/100\n",
            "38/38 [==============================] - 5s 119ms/step - loss: 0.0020\n",
            "Epoch 78/100\n",
            "38/38 [==============================] - 5s 123ms/step - loss: 0.0015\n",
            "Epoch 79/100\n",
            "38/38 [==============================] - 5s 123ms/step - loss: 0.0017\n",
            "Epoch 80/100\n",
            "38/38 [==============================] - 5s 124ms/step - loss: 0.0018\n",
            "Epoch 81/100\n",
            "38/38 [==============================] - 5s 119ms/step - loss: 0.0019\n",
            "Epoch 82/100\n",
            "38/38 [==============================] - 5s 121ms/step - loss: 0.0017\n",
            "Epoch 83/100\n",
            "38/38 [==============================] - 5s 120ms/step - loss: 0.0017\n",
            "Epoch 84/100\n",
            "38/38 [==============================] - 5s 122ms/step - loss: 0.0016\n",
            "Epoch 85/100\n",
            "38/38 [==============================] - 5s 118ms/step - loss: 0.0016\n",
            "Epoch 86/100\n",
            "38/38 [==============================] - 4s 117ms/step - loss: 0.0015\n",
            "Epoch 87/100\n",
            "38/38 [==============================] - 4s 115ms/step - loss: 0.0015\n",
            "Epoch 88/100\n",
            "38/38 [==============================] - 5s 118ms/step - loss: 0.0015\n",
            "Epoch 89/100\n",
            "38/38 [==============================] - 4s 117ms/step - loss: 0.0014\n",
            "Epoch 90/100\n",
            "38/38 [==============================] - 4s 117ms/step - loss: 0.0014\n",
            "Epoch 91/100\n",
            "38/38 [==============================] - 4s 117ms/step - loss: 0.0017\n",
            "Epoch 92/100\n",
            "38/38 [==============================] - 4s 117ms/step - loss: 0.0015\n",
            "Epoch 93/100\n",
            "38/38 [==============================] - 4s 116ms/step - loss: 0.0014\n",
            "Epoch 94/100\n",
            "38/38 [==============================] - 4s 116ms/step - loss: 0.0014\n",
            "Epoch 95/100\n",
            "38/38 [==============================] - 4s 118ms/step - loss: 0.0016\n",
            "Epoch 96/100\n",
            "38/38 [==============================] - 4s 117ms/step - loss: 0.0015\n",
            "Epoch 97/100\n",
            "38/38 [==============================] - 4s 114ms/step - loss: 0.0015\n",
            "Epoch 98/100\n",
            "38/38 [==============================] - 5s 122ms/step - loss: 0.0014\n",
            "Epoch 99/100\n",
            "38/38 [==============================] - 4s 116ms/step - loss: 0.0017\n",
            "Epoch 100/100\n",
            "38/38 [==============================] - 5s 124ms/step - loss: 0.0015\n"
          ]
        },
        {
          "output_type": "execute_result",
          "data": {
            "text/plain": [
              "<keras.callbacks.History at 0x7f3e3d7a3410>"
            ]
          },
          "metadata": {},
          "execution_count": 18
        }
      ]
    },
    {
      "cell_type": "markdown",
      "source": [
        "# Making Prediction"
      ],
      "metadata": {
        "id": "h1yqAzc2db3z"
      }
    },
    {
      "cell_type": "markdown",
      "source": [
        "# Result Visualization"
      ],
      "metadata": {
        "id": "KM8QowlOde_F"
      }
    }
  ]
}